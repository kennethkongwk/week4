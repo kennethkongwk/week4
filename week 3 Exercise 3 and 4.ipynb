{
 "cells": [
  {
   "cell_type": "code",
   "execution_count": 1,
   "id": "7d2f3c57",
   "metadata": {},
   "outputs": [
    {
     "data": {
      "text/plain": [
       "True"
      ]
     },
     "execution_count": 1,
     "metadata": {},
     "output_type": "execute_result"
    }
   ],
   "source": [
    "import sys\n",
    "assert sys.version_info >= (3,7)\n",
    "\n",
    "import cv2 as cv\n",
    "import numpy as np\n",
    "\n",
    "if not cv.useOptimized():\n",
    "    cv.setUseOptimized(True)\n",
    "    \n",
    "cv.useOptimized()"
   ]
  },
  {
   "cell_type": "markdown",
   "id": "b548dff8",
   "metadata": {},
   "source": [
    "## Student ID: 2006669\n",
    "\n",
    "# Week 3\n",
    "\n",
    "# Exercise 3"
   ]
  },
  {
   "cell_type": "code",
   "execution_count": 2,
   "id": "05a4d0a0",
   "metadata": {},
   "outputs": [],
   "source": [
    "cap = cv.VideoCapture('media/img_pexels.mp4')\n",
    "\n",
    "if not cap.isOpened():\n",
    "    raise Exception(\"No video detected\")\n",
    "    \n",
    "fps =20 \n",
    "\n",
    "fourcc = cv.VideoWriter_fourcc('M','J','P','G')\n",
    "out_width,out_height = 640,480\n",
    "out = cv.VideoWriter('smaller_img_pexels.avi',fourcc,fps, (out_width, out_height))\n",
    "\n",
    "while cap.isOpened():\n",
    "    ret, frame = cap.read()\n",
    "    \n",
    "    if not ret:\n",
    "        print(\"can't receive frame\")\n",
    "        break\n",
    "        \n",
    "    resized_frame = cv.resize(frame, (out_width,out_height))\n",
    "    \n",
    "    cv.imshow(\"resized video\", resized_frame)\n",
    "    if cv.waitKey(1) & 0xFF == 27:\n",
    "        break\n",
    "        \n",
    "    out.write(resized_frame)\n",
    "    \n",
    "\n",
    "cap.release()\n",
    "out.release()\n",
    "cv.destroyAllWindows()"
   ]
  },
  {
   "cell_type": "markdown",
   "id": "5d3cff22",
   "metadata": {},
   "source": [
    "## Exercise 4"
   ]
  },
  {
   "cell_type": "code",
   "execution_count": 3,
   "id": "53552f8d",
   "metadata": {},
   "outputs": [],
   "source": [
    "img = cv.imread('media/dog.jfif')\n",
    "\n",
    "cv.imshow('original', img)\n",
    "cv.waitKey(0)\n",
    "cv.destroyAllWindows()"
   ]
  },
  {
   "cell_type": "code",
   "execution_count": 4,
   "id": "a911f613",
   "metadata": {},
   "outputs": [],
   "source": [
    "img = cv.imread('media/dog.jfif')\n",
    "\n",
    "#new_width = 500\n",
    "#new_height = 600\n",
    "img_resized = cv.resize(img, None, fx=3, fy = 3 , interpolation = cv.INTER_LINEAR)\n",
    "\n",
    "cv.imshow('Linear_upscale', img_resized)\n",
    "cv.waitKey(0)\n",
    "cv.destroyAllWindows()\n"
   ]
  },
  {
   "cell_type": "code",
   "execution_count": 5,
   "id": "7378b406",
   "metadata": {},
   "outputs": [],
   "source": [
    "img = cv.imread('media/dog.jfif')\n",
    "\n",
    "#new_width = 500\n",
    "#new_height = 600\n",
    "img_resized = cv.resize(img, None, fx=3, fy = 3 , interpolation = cv.INTER_CUBIC)\n",
    "\n",
    "cv.imshow('Cubic_upscale', img_resized)\n",
    "cv.waitKey(0)\n",
    "cv.destroyAllWindows()"
   ]
  },
  {
   "cell_type": "code",
   "execution_count": 6,
   "id": "7de68cb4",
   "metadata": {},
   "outputs": [],
   "source": [
    "img = cv.imread('media/dog.jfif')\n",
    "\n",
    "#new_width = 500\n",
    "#new_height = 600\n",
    "img_resized = cv.resize(img, None, fx=3, fy = 3 , interpolation = cv.INTER_NEAREST)\n",
    "\n",
    "cv.imshow('Nearest_upscale', img_resized)\n",
    "cv.waitKey(0)\n",
    "cv.destroyAllWindows()"
   ]
  }
 ],
 "metadata": {
  "kernelspec": {
   "display_name": "Python 3 (ipykernel)",
   "language": "python",
   "name": "python3"
  },
  "language_info": {
   "codemirror_mode": {
    "name": "ipython",
    "version": 3
   },
   "file_extension": ".py",
   "mimetype": "text/x-python",
   "name": "python",
   "nbconvert_exporter": "python",
   "pygments_lexer": "ipython3",
   "version": "3.10.9"
  }
 },
 "nbformat": 4,
 "nbformat_minor": 5
}
